{
 "cells": [
  {
   "cell_type": "code",
   "execution_count": 5,
   "metadata": {},
   "outputs": [],
   "source": [
    "import openai\n",
    "import os\n",
    "import langchain as lc\n",
    "from langchain.llms import OpenAI\n",
    "# from langchain.document_loaders import UnstructuredPDFLoader\n",
    "from langchain.document_loaders import PyPDFLoader\n",
    "from langchain.vectorstores import FAISS\n",
    "from langchain.embeddings.openai import OpenAIEmbeddings\n",
    "\n",
    "key = os.getenv('OPENAI_API_KEY')\n",
    "openai.api_key = key"
   ]
  },
  {
   "cell_type": "code",
   "execution_count": 6,
   "metadata": {},
   "outputs": [],
   "source": [
    "def add_book_to_index(indexname, newbookname):\n",
    "    createfile = False\n",
    "    savefile = False\n",
    "\n",
    "    # Check if filecreation needed\n",
    "    if not os.path.exists(indexname):\n",
    "        print(\"Path doesnt exist, everthing needs to be done.\")\n",
    "        createfile = True\n",
    "        savefile = True\n",
    "        # Check if Book already in index\n",
    "    else:\n",
    "        print(\"Index exists.\")\n",
    "        with open(indexname+'.txt','r') as f:\n",
    "            if newbookname+'\\n' not in f:\n",
    "                print(\"File not in index.\")\n",
    "                savefile = True\n",
    "            else:\n",
    "                print(\"File already in index.\")\n",
    "    #Create files\n",
    "    if createfile:\n",
    "        open(indexname + '.txt', 'x')\n",
    "\n",
    "    if savefile:\n",
    "        loader = PyPDFLoader(\"PDFliterature/\" + indexname + \"/\" + newbookname + '.pdf')\n",
    "        pages = loader.load_and_split()\n",
    "\n",
    "        if createfile:\n",
    "            index = FAISS.from_documents(pages, OpenAIEmbeddings())\n",
    "        else:\n",
    "            index = FAISS.load_local(indexname, OpenAIEmbeddings())\n",
    "            index.add_documents(pages)\n",
    "            \n",
    "        index.save_local(indexname)\n",
    "        with open(indexname + '.txt', 'a') as f:\n",
    "            f.write(newbookname + '\\n')"
   ]
  },
  {
   "cell_type": "code",
   "execution_count": 7,
   "metadata": {},
   "outputs": [],
   "source": [
    "indexname = 'PhysicsLiterature'"
   ]
  },
  {
   "cell_type": "code",
   "execution_count": 8,
   "metadata": {},
   "outputs": [
    {
     "name": "stdout",
     "output_type": "stream",
     "text": [
      "Adding Coey, magnetism to PhysicsLiterature.index\n",
      "Index exists.\n",
      "File already in index.\n",
      "Adding Demtröder - Experimentalphysik 1 (Mechanik und Wärme) to PhysicsLiterature.index\n",
      "Index exists.\n",
      "File already in index.\n",
      "Adding Demtröder - Experimentalphysik 2 (Elektrizität und Optik) to PhysicsLiterature.index\n",
      "Index exists.\n",
      "File already in index.\n",
      "Adding Demtröder - Experimentalphysik 3 (Atome, Moleküle und Festkörper) to PhysicsLiterature.index\n",
      "Index exists.\n",
      "File already in index.\n",
      "Adding Demtröder - Experimentalphysik 4 (Kern-,Teilchen, und Astrophsik) to PhysicsLiterature.index\n",
      "Index exists.\n",
      "File already in index.\n",
      "Adding Haken, Wolf - Molekülphysik und Quantenchemie to PhysicsLiterature.index\n",
      "Index exists.\n",
      "File already in index.\n",
      "Adding Jeevanjee, Introduction to Tensors and Group theory for Physicists to PhysicsLiterature.index\n",
      "Index exists.\n",
      "File already in index.\n",
      "Adding Nolting 1 to PhysicsLiterature.index\n",
      "Index exists.\n",
      "File already in index.\n",
      "Adding Nolting 2 to PhysicsLiterature.index\n",
      "Index exists.\n",
      "File already in index.\n",
      "Adding Nolting 3 to PhysicsLiterature.index\n",
      "Index exists.\n",
      "File not in index.\n"
     ]
    },
    {
     "ename": "AttributeError",
     "evalue": "Can't get attribute 'Document' on <module 'langchain.schema' from 'c:\\\\Users\\\\igonn\\\\anaconda3\\\\envs\\\\llm\\\\Lib\\\\site-packages\\\\langchain\\\\schema.py'>",
     "output_type": "error",
     "traceback": [
      "\u001b[1;31m---------------------------------------------------------------------------\u001b[0m",
      "\u001b[1;31mAttributeError\u001b[0m                            Traceback (most recent call last)",
      "Cell \u001b[1;32mIn[8], line 5\u001b[0m\n\u001b[0;32m      3\u001b[0m \u001b[39mif\u001b[39;00m file\u001b[39m.\u001b[39mendswith(\u001b[39m\"\u001b[39m\u001b[39m.pdf\u001b[39m\u001b[39m\"\u001b[39m):\n\u001b[0;32m      4\u001b[0m     \u001b[39mprint\u001b[39m(\u001b[39m\"\u001b[39m\u001b[39mAdding \u001b[39m\u001b[39m\"\u001b[39m \u001b[39m+\u001b[39m file[:\u001b[39m-\u001b[39m\u001b[39m4\u001b[39m] \u001b[39m+\u001b[39m \u001b[39m\"\u001b[39m\u001b[39m to \u001b[39m\u001b[39m\"\u001b[39m \u001b[39m+\u001b[39m indexname \u001b[39m+\u001b[39m \u001b[39m\"\u001b[39m\u001b[39m.index\u001b[39m\u001b[39m\"\u001b[39m)\n\u001b[1;32m----> 5\u001b[0m     add_book_to_index(indexname, file[:\u001b[39m-\u001b[39;49m\u001b[39m4\u001b[39;49m])\n",
      "Cell \u001b[1;32mIn[6], line 30\u001b[0m, in \u001b[0;36madd_book_to_index\u001b[1;34m(indexname, newbookname)\u001b[0m\n\u001b[0;32m     28\u001b[0m     index \u001b[39m=\u001b[39m FAISS\u001b[39m.\u001b[39mfrom_documents(pages, OpenAIEmbeddings())\n\u001b[0;32m     29\u001b[0m \u001b[39melse\u001b[39;00m:\n\u001b[1;32m---> 30\u001b[0m     index \u001b[39m=\u001b[39m FAISS\u001b[39m.\u001b[39;49mload_local(indexname, OpenAIEmbeddings())\n\u001b[0;32m     31\u001b[0m     index\u001b[39m.\u001b[39madd_documents(pages)\n\u001b[0;32m     33\u001b[0m index\u001b[39m.\u001b[39msave_local(indexname)\n",
      "File \u001b[1;32mc:\\Users\\igonn\\anaconda3\\envs\\llm\\Lib\\site-packages\\langchain\\vectorstores\\faiss.py:297\u001b[0m, in \u001b[0;36mFAISS.load_local\u001b[1;34m(cls, folder_path, embeddings)\u001b[0m\n\u001b[0;32m    295\u001b[0m \u001b[39m# load docstore and index_to_docstore_id\u001b[39;00m\n\u001b[0;32m    296\u001b[0m \u001b[39mwith\u001b[39;00m \u001b[39mopen\u001b[39m(path \u001b[39m/\u001b[39m \u001b[39m\"\u001b[39m\u001b[39mindex.pkl\u001b[39m\u001b[39m\"\u001b[39m, \u001b[39m\"\u001b[39m\u001b[39mrb\u001b[39m\u001b[39m\"\u001b[39m) \u001b[39mas\u001b[39;00m f:\n\u001b[1;32m--> 297\u001b[0m     docstore, index_to_docstore_id \u001b[39m=\u001b[39m pickle\u001b[39m.\u001b[39;49mload(f)\n\u001b[0;32m    298\u001b[0m \u001b[39mreturn\u001b[39;00m \u001b[39mcls\u001b[39m(embeddings\u001b[39m.\u001b[39membed_query, index, docstore, index_to_docstore_id)\n",
      "\u001b[1;31mAttributeError\u001b[0m: Can't get attribute 'Document' on <module 'langchain.schema' from 'c:\\\\Users\\\\igonn\\\\anaconda3\\\\envs\\\\llm\\\\Lib\\\\site-packages\\\\langchain\\\\schema.py'>"
     ]
    }
   ],
   "source": [
    "# Update Literature Index\n",
    "for file in os.listdir(\"PDFliterature/\" + indexname):\n",
    "    if file.endswith(\".pdf\"):\n",
    "        print(\"Adding \" + file[:-4] + \" to \" + indexname + \".index\")\n",
    "        add_book_to_index(indexname, file[:-4])"
   ]
  }
 ],
 "metadata": {
  "kernelspec": {
   "display_name": "llm",
   "language": "python",
   "name": "python3"
  },
  "language_info": {
   "codemirror_mode": {
    "name": "ipython",
    "version": 3
   },
   "file_extension": ".py",
   "mimetype": "text/x-python",
   "name": "python",
   "nbconvert_exporter": "python",
   "pygments_lexer": "ipython3",
   "version": "3.11.0"
  },
  "orig_nbformat": 4,
  "vscode": {
   "interpreter": {
    "hash": "1067e739ac565e17225e879e053452cff499d2029f4456c5aace3b395494284f"
   }
  }
 },
 "nbformat": 4,
 "nbformat_minor": 2
}
